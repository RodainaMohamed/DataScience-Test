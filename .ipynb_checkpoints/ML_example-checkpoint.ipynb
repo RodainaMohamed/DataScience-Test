{
 "cells": [
  {
   "cell_type": "markdown",
   "metadata": {},
   "source": [
    "# Machine Learning example"
   ]
  },
  {
   "cell_type": "markdown",
   "metadata": {},
   "source": [
    "## Simple Linear Regression"
   ]
  },
  {
   "cell_type": "markdown",
   "metadata": {},
   "source": [
    " Regression analysis is a powerful statistical method that allows you to examine the relationship between one dependent variable (usually denoted by Y) and a series of other changing variables (known as independent variables and usually denoted by X) using a best fit straight line (also known as regression line)."
   ]
  },
  {
   "cell_type": "markdown",
   "metadata": {},
   "source": [
    " For example, you had a set of data on high school students that told you their GPA, hours of sleep, hours of study, and SAT exam scores, you could build a simple linear regression model where GPA, hours of sleep and hours of study are your independent variables (X) and SAT exam scores are your dependent variables (Y). Then, once you have the model, and provided it is a good fit, you can use the model to predict what new students will score on the SAT exam based on the other three variables."
   ]
  },
  {
   "cell_type": "markdown",
   "metadata": {},
   "source": [
    "In the following example we will use the Linear Regression model to predict salaries of employees (dependent variable Y) based on their years of experience (indepenedt variable X)"
   ]
  },
  {
   "cell_type": "code",
   "execution_count": 3,
   "metadata": {},
   "outputs": [],
   "source": [
    "# Importing the libraries\n",
    "import numpy as np\n",
    "import pandas as pd\n",
    "\n",
    "# We need Matplotlib library to visualize our data\n",
    "import matplotlib.pyplot as plt"
   ]
  },
  {
   "cell_type": "markdown",
   "metadata": {},
   "source": [
    "### Importing the dataset"
   ]
  },
  {
   "cell_type": "code",
   "execution_count": 4,
   "metadata": {},
   "outputs": [],
   "source": [
    "# read our CSV file named Salary_Data using Pandas Library\n",
    "# replace file-name with Salary_Data.csv\n",
    "dataset = pd.read_csv(\"Salary_Data.csv\")"
   ]
  },
  {
   "cell_type": "markdown",
   "metadata": {},
   "source": [
    "### View part of the dataset"
   ]
  },
  {
   "cell_type": "code",
   "execution_count": 8,
   "metadata": {},
   "outputs": [
    {
     "data": {
      "text/html": [
       "<div>\n",
       "<style scoped>\n",
       "    .dataframe tbody tr th:only-of-type {\n",
       "        vertical-align: middle;\n",
       "    }\n",
       "\n",
       "    .dataframe tbody tr th {\n",
       "        vertical-align: top;\n",
       "    }\n",
       "\n",
       "    .dataframe thead th {\n",
       "        text-align: right;\n",
       "    }\n",
       "</style>\n",
       "<table border=\"1\" class=\"dataframe\">\n",
       "  <thead>\n",
       "    <tr style=\"text-align: right;\">\n",
       "      <th></th>\n",
       "      <th>YearsExperience</th>\n",
       "      <th>Salary</th>\n",
       "    </tr>\n",
       "  </thead>\n",
       "  <tbody>\n",
       "    <tr>\n",
       "      <th>0</th>\n",
       "      <td>1.1</td>\n",
       "      <td>39343.0</td>\n",
       "    </tr>\n",
       "    <tr>\n",
       "      <th>1</th>\n",
       "      <td>1.3</td>\n",
       "      <td>46205.0</td>\n",
       "    </tr>\n",
       "    <tr>\n",
       "      <th>2</th>\n",
       "      <td>1.5</td>\n",
       "      <td>37731.0</td>\n",
       "    </tr>\n",
       "    <tr>\n",
       "      <th>3</th>\n",
       "      <td>2.0</td>\n",
       "      <td>43525.0</td>\n",
       "    </tr>\n",
       "    <tr>\n",
       "      <th>4</th>\n",
       "      <td>2.2</td>\n",
       "      <td>39891.0</td>\n",
       "    </tr>\n",
       "  </tbody>\n",
       "</table>\n",
       "</div>"
      ],
      "text/plain": [
       "   YearsExperience   Salary\n",
       "0              1.1  39343.0\n",
       "1              1.3  46205.0\n",
       "2              1.5  37731.0\n",
       "3              2.0  43525.0\n",
       "4              2.2  39891.0"
      ]
     },
     "execution_count": 8,
     "metadata": {},
     "output_type": "execute_result"
    }
   ],
   "source": [
    "# head() function shows the first 5 columns of a dataset\n",
    "dataset.head()"
   ]
  },
  {
   "cell_type": "markdown",
   "metadata": {},
   "source": [
    "### Show the number of rows and columns in the dataset"
   ]
  },
  {
   "cell_type": "code",
   "execution_count": 9,
   "metadata": {},
   "outputs": [
    {
     "data": {
      "text/plain": [
       "(30, 2)"
      ]
     },
     "execution_count": 9,
     "metadata": {},
     "output_type": "execute_result"
    }
   ],
   "source": [
    "# our dataset consists of 30 rows and 2 columns\n",
    "dataset.shape"
   ]
  },
  {
   "cell_type": "markdown",
   "metadata": {},
   "source": [
<<<<<<< HEAD
    "Our dataset consists of two columns \"YearsExperience\" and \"Salary\". Each column has 30 rows. Each row represents the salary corresponding to one Employee's Years of Experience"
=======
    "In a Data Science/Machine Learning context, features are columns in our dataset / the model’s inputs. To generalize it more, features are some types of information. With the help of which we would like to make prediction through the model.\n",
    "\n",
    "In our example our feature would be the Salary in our dataset (training set)"
>>>>>>> 43ce88f6e897ce1d4ae8b62321d0bc8fafc84a45
   ]
  },
  {
   "cell_type": "markdown",
   "metadata": {},
   "source": [
    " In the following step we will divide our dataset into X and y, where X represents the \"YearsExperience\" column and y represents the \"Salary\" column"
   ]
  },
  {
<<<<<<< HEAD
   "cell_type": "markdown",
=======
   "cell_type": "code",
   "execution_count": 30,
>>>>>>> 43ce88f6e897ce1d4ae8b62321d0bc8fafc84a45
   "metadata": {},
   "source": [
<<<<<<< HEAD
    "### Divide the dataset into X and y"
=======
    "# TODO: Introduce ML process...."
   ]
  },
  {
   "cell_type": "markdown",
   "metadata": {},
   "source": [
    "Now that we've got the data in some form, we have to do a couple of steps:\n",
    "\n",
    "feature engineering\n",
    "split data in train and test\n",
    "training the model\n",
    "test / validate model (with prediction)\n",
    "(visualize all the results)"
>>>>>>> 43ce88f6e897ce1d4ae8b62321d0bc8fafc84a45
   ]
  },
  {
   "cell_type": "code",
<<<<<<< HEAD
   "execution_count": 37,
=======
   "execution_count": 26,
>>>>>>> 43ce88f6e897ce1d4ae8b62321d0bc8fafc84a45
   "metadata": {},
   "outputs": [],
   "source": [
    "# select column 'YearsExperience' values from the dataset as an array and assign it to the variable X\n",
    "X = dataset['YearsExperience'].values.reshape(-1, 1)\n",
    "\n",
<<<<<<< HEAD
    "# select column Slaray values from the dataset and assign it to y\n",
    "y = dataset['Salary'].values"
=======
    "# select all rows of the first column which has index 0 and assign it to X\n",
    "X = dataset.iloc[:, 0].values.reshape(-1, 1)\n",
    "\n",
    "# You don't really have to understand the reshape function we apply. \n",
    "# Just know that the sklearn library wants the training data and the test data in a specific form\n",
    "# So we have to convert the data from 1d to 2d\n",
    "\n",
    "# select all rows of the second column which has index 1 and assign it to y\n",
    "y = dataset.iloc[:, 1].values"
>>>>>>> 43ce88f6e897ce1d4ae8b62321d0bc8fafc84a45
   ]
  },
  {
   "cell_type": "code",
   "execution_count": 27,
   "metadata": {},
   "outputs": [
    {
     "name": "stdout",
     "output_type": "stream",
     "text": [
      "[[1.1]\n",
      " [1.3]\n",
      " [1.5]\n",
      " [2. ]\n",
      " [2.2]]\n"
     ]
    }
   ],
   "source": [
    "# print the first five rows of X \n",
    "print(X[:5])"
   ]
  },
  {
   "cell_type": "code",
   "execution_count": 28,
   "metadata": {},
   "outputs": [
    {
     "name": "stdout",
     "output_type": "stream",
     "text": [
      "[39343. 46205. 37731. 43525. 39891.]\n"
     ]
    }
   ],
   "source": [
    "# print the first five rows of y \n",
    "print (y[:5])"
   ]
  },
  {
   "cell_type": "markdown",
   "metadata": {},
   "source": [
<<<<<<< HEAD
    "###### In order for the Machine Learning model to be able to predict employees salaries based on their years of experience, then it first needs to learn the pattern between salary and years of experience. Learning process is applied on part of the data set, for example 80% of the data and the other 20% of the data are used to test the machine learning model."
   ]
  },
  {
   "cell_type": "markdown",
=======
    "#### In order to use our Machine Learning model to predict the salaries of employees according to their years of experience, we will first have to train the model on available data.\n",
    "###### - To train the model we will need to split our data into two parts: Training Set and Test Set.\n",
    "( For Machine Learning purposes, a dataset is usually divided into a training set and a test set. \n",
    "The training set is used to build the Machine Learning model,  while a test (or validation) set is used to validate the model. )\n",
    "###### - Training set will be used  by our model in the learning process.\n",
    "###### - Test set will be used in the predicting process which comes after the learning process."
   ]
  },
  {
   "cell_type": "code",
   "execution_count": 29,
>>>>>>> 43ce88f6e897ce1d4ae8b62321d0bc8fafc84a45
   "metadata": {},
   "source": [
<<<<<<< HEAD
    "##### In the following steps we will split our dataset into two sets one called the \"Training Set\" and it will be used in the model learning process and the other called \"Test Set\" and it will be used by the model to predict salaries. \n",
    "#### Predicted salaries will be compared with the actual salaries to evaluate the model performance."
=======
    "# TODO: reformulate above points to be more clear"
>>>>>>> 43ce88f6e897ce1d4ae8b62321d0bc8fafc84a45
   ]
  },
  {
   "cell_type": "markdown",
   "metadata": {},
   "source": [
    "### Splitting the dataset into the Training set and Test set\n"
   ]
  },
  {
   "cell_type": "code",
<<<<<<< HEAD
   "execution_count": 30,
=======
   "execution_count": 20,
>>>>>>> 43ce88f6e897ce1d4ae8b62321d0bc8fafc84a45
   "metadata": {},
   "outputs": [],
   "source": [
    "# import the sklean libarary \"train_test_split\" to split our dataset into Training set and Test set\n",
    "from sklearn.model_selection import train_test_split\n",
    "\n",
    "# as indicated by the name of the Library \"train_test_split\" it takes three arguments,\n",
    "# first argument is the indepent variable X, second argument is the dependent variable y \n",
    "# and the last one is the size of the test set which is 20% of available data in our case\n",
    "# Note: test set size could be any different value such as 0.25 or 0.3, it depends on the problem and the whole dataset size\n",
    "X_train, X_test, y_train, y_test = train_test_split(X, y, test_size = 0.2)"
   ]
  },
  {
   "cell_type": "markdown",
   "metadata": {},
   "source": [
    "## Model Training\n"
   ]
  },
  {
   "cell_type": "markdown",
   "metadata": {},
   "source": [
    "### Create Machine Learning Model and train it\n"
   ]
  },
  {
   "cell_type": "code",
<<<<<<< HEAD
   "execution_count": 20,
=======
   "execution_count": 21,
>>>>>>> 43ce88f6e897ce1d4ae8b62321d0bc8fafc84a45
   "metadata": {},
   "outputs": [
    {
     "data": {
      "text/plain": [
<<<<<<< HEAD
       "LinearRegression(copy_X=True, fit_intercept=True, n_jobs=None,\n",
       "         normalize=False)"
      ]
     },
     "execution_count": 20,
=======
       "LinearRegression(copy_X=True, fit_intercept=True, n_jobs=None, normalize=False)"
      ]
     },
     "execution_count": 21,
>>>>>>> 43ce88f6e897ce1d4ae8b62321d0bc8fafc84a45
     "metadata": {},
     "output_type": "execute_result"
    }
   ],
   "source": [
    "# import the Linear Regression class from sklearn\n",
    "from sklearn.linear_model import LinearRegression\n",
    "\n",
    "# create LinearRegression model from the LinearRegression class and name it regressor\n",
    "regressor = LinearRegression()\n",
    "\n",
    "# train the model by fitting it to the training set \n",
    "regressor.fit(X_train, y_train)"
   ]
  },
  {
   "cell_type": "markdown",
   "metadata": {},
   "source": [
    "## Model Testing"
   ]
  },
  {
   "cell_type": "markdown",
   "metadata": {},
   "source": [
    "### Predicting the Test set results"
   ]
  },
  {
   "cell_type": "code",
<<<<<<< HEAD
   "execution_count": 21,
=======
   "execution_count": 22,
>>>>>>> 43ce88f6e897ce1d4ae8b62321d0bc8fafc84a45
   "metadata": {},
   "outputs": [],
   "source": [
    "# predict employees salaries according to their years of experience presented in the test set\n",
    "y_pred = regressor.predict(X_test)"
   ]
  },
  {
   "cell_type": "code",
<<<<<<< HEAD
   "execution_count": 22,
=======
   "execution_count": 23,
>>>>>>> 43ce88f6e897ce1d4ae8b62321d0bc8fafc84a45
   "metadata": {},
   "outputs": [
    {
     "name": "stdout",
     "output_type": "stream",
     "text": [
<<<<<<< HEAD
      "[ 47669 116689  45804  64458 100833  90574]\n"
=======
      "[ 74502 108691 116289 111540  56458  82100]\n"
>>>>>>> 43ce88f6e897ce1d4ae8b62321d0bc8fafc84a45
     ]
    }
   ],
   "source": [
    "# Show predicted salaries as integers for better visualisation\n",
    "print(y_pred.astype(int))"
   ]
  },
  {
   "cell_type": "code",
<<<<<<< HEAD
   "execution_count": 23,
=======
   "execution_count": 24,
>>>>>>> 43ce88f6e897ce1d4ae8b62321d0bc8fafc84a45
   "metadata": {},
   "outputs": [
    {
     "name": "stdout",
     "output_type": "stream",
     "text": [
<<<<<<< HEAD
      "[ 39891 112635  43525  55794 101302  91738]\n"
=======
      "[ 66029 109431 116969 105582  54445  81363]\n"
>>>>>>> 43ce88f6e897ce1d4ae8b62321d0bc8fafc84a45
     ]
    }
   ],
   "source": [
    "# Show real salaries\n",
    "print(y_test.astype(int))"
   ]
  },
  {
   "cell_type": "markdown",
   "metadata": {},
   "source": [
    "##### Try to look at values of predicted salaries and the actual salaries and compare them\n",
    "\n",
    "#### Are they almost equal or there are big difference (>10000 difference) ?"
   ]
  },
  {
   "cell_type": "markdown",
   "metadata": {},
   "source": [
    "### Visualising the Training set results\n"
   ]
  },
  {
   "cell_type": "code",
<<<<<<< HEAD
   "execution_count": 31,
=======
   "execution_count": 25,
>>>>>>> 43ce88f6e897ce1d4ae8b62321d0bc8fafc84a45
   "metadata": {},
   "outputs": [
    {
     "data": {
<<<<<<< HEAD
      "image/png": "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\n",
=======
      "image/png": "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\n",
>>>>>>> 43ce88f6e897ce1d4ae8b62321d0bc8fafc84a45
      "text/plain": [
       "<Figure size 432x288 with 1 Axes>"
      ]
     },
     "metadata": {
      "needs_background": "light"
     },
     "output_type": "display_data"
    }
   ],
   "source": [
    "# We use matplotlib for visualizing the data\n",
    "\n",
    "# First we add a scatter plot for the training-data (as red dots)\n",
    "plt.scatter(X_train, y_train, color = 'red')\n",
    "\n",
    "# Then we visualize the results of the regression model (as a blue linear function)\n",
    "plt.plot(X_train, regressor.predict(X_train), color = 'blue')\n",
    "\n",
    "# Let's add a title\n",
    "plt.title('Salary vs Experience (Training set)')\n",
    "\n",
    "# Now we have to add labels to the two axis\n",
    "plt.xlabel('Years of Experience')\n",
    "plt.ylabel('Salary')\n",
    "\n",
    "# Last we have to show the plot\n",
    "plt.show()"
   ]
  },
  {
   "cell_type": "markdown",
   "metadata": {},
   "source": [
    "### Visualising the Test set results"
   ]
  },
  {
   "cell_type": "code",
   "execution_count": 36,
   "metadata": {},
   "outputs": [
    {
     "data": {
      "image/png": "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\n",
      "text/plain": [
       "<Figure size 432x288 with 1 Axes>"
      ]
     },
     "metadata": {
      "needs_background": "light"
     },
     "output_type": "display_data"
    }
   ],
   "source": [
    "# Edit the lines to visualize the result\n",
    "\n",
    "# Let's plot the test data. replace X and y with X_test and y_test respectively\n",
    "plt.scatter(X, y, color = 'red')\n",
    "\n",
    "# plot the regression model line\n",
    "plt.plot(X_train, regressor.predict(X_train), color = 'blue')\n",
    "\n",
    "# add a title\n",
    "plt.title('Salary vs Experience (Test set)')\n",
    "\n",
    "# Add labels for the x-axis and y-axis like the previous example\n",
    "plt.xlabel('')\n",
    "plt.ylabel('')\n",
    "\n",
    "# What was the function to SHOW the plot again?\n",
    "plt.write_function_name()"
   ]
  }
 ],
 "metadata": {
  "kernelspec": {
   "display_name": "Python 3",
   "language": "python",
   "name": "python3"
  },
  "language_info": {
   "codemirror_mode": {
    "name": "ipython",
    "version": 2
   },
   "file_extension": ".py",
   "mimetype": "text/x-python",
   "name": "python",
   "nbconvert_exporter": "python",
   "pygments_lexer": "ipython2",
   "version": "2.7.15"
  }
 },
 "nbformat": 4,
 "nbformat_minor": 2
}
