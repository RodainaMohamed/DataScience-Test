{
 "cells": [
  {
   "cell_type": "markdown",
   "metadata": {},
   "source": [
    "# Data Preprocessing"
   ]
  },
  {
   "cell_type": "markdown",
   "metadata": {},
   "source": [
    "### Importing the libraries\n"
   ]
  },
  {
   "cell_type": "code",
   "execution_count": null,
   "metadata": {},
   "outputs": [],
   "source": [
    "# In the beginning we import the libraries we need in order to acomplish our tasks\n",
    "\n",
    "# NumPy is needed to create and manipulate N-dimensional arrays\n",
    "import numpy as np\n",
    "\n",
    "# Pandas provides data structures and ways to manipulate them\n",
    "import pandas as pd"
   ]
  },
  {
   "cell_type": "markdown",
   "metadata": {},
   "source": [
    "### Importing the dataset\n"
   ]
  },
  {
   "cell_type": "code",
   "execution_count": null,
   "metadata": {},
   "outputs": [],
   "source": [
    "# Here we use the Pandas library to read data from a CSV file and save it in a Pandas data structure called dataframe\n",
    "dataset = pd.read_csv('Data.csv')"
   ]
  },
  {
   "cell_type": "markdown",
   "metadata": {},
   "source": [
    "### Showing the dataset\n"
   ]
  },
  {
   "cell_type": "code",
   "execution_count": null,
   "metadata": {
    "scrolled": true
   },
   "outputs": [],
   "source": [
    "# In Jupyter Notebook, we can just type the name of the dataframe, and it will be printed\n",
    "dataset"
   ]
  },
  {
   "cell_type": "markdown",
   "metadata": {},
   "source": [
    "### Taking care of missing data\n"
   ]
  },
  {
   "cell_type": "code",
   "execution_count": null,
   "metadata": {},
   "outputs": [],
   "source": [
    "# Because we saw that the only numeric columns where the second and the third let's select them\n",
    "column_age = dataset.iloc[:, 1]\n",
    "column_salary = dataset.iloc[:, 2]\n",
    "\n",
    "# Now we calculate the mean for those columns. Numpy provides a good method for that\n",
    "age_mean = np.nanmean(column_age.values)\n",
    "salary_mean = np.nanmean(column_salary.values)\n",
    "\n",
    "# In order to fill the Nan-values, we need to map the column name to the respective mean value\n",
    "column_to_mean_map = {'Age': age_mean, 'Salary': salary_mean}\n",
    "\n",
    "# Now we actually fill the Nan values with the mean values. We just have to provide our mapping results\n",
    "dataset = dataset.fillna(value = column_to_mean_map)\n",
    "\n",
    "# You don't have to do those steps all manually. We could have also just written the following (important for later!):\n",
    "# dataframe_name = dataframe_name.fillna(dataframe_name.mean()) \n",
    "\n",
    "# Let's take a look if the Nan's are filled\n",
    "dataset"
   ]
  },
  {
   "cell_type": "markdown",
   "metadata": {},
   "source": [
    "### Task 1 (Merging)"
   ]
  },
  {
   "cell_type": "markdown",
   "metadata": {},
   "source": [
    "1.  Read each CSV file using the following command pd.read_csv(\"file_name\")"
   ]
  },
  {
   "cell_type": "code",
   "execution_count": null,
   "metadata": {},
   "outputs": [],
   "source": [
    "# The files are called \"Data-part-one.csv\" and \"Data-part-two.csv\"\n",
    "# replece first_file_name and second_file_name with the actual file names\n",
    "\n",
    "df1 = pd.read_csv(\"first_file_name\")\n",
    "df2 = pd.read_csv(\"first_file_name\")"
   ]
  },
  {
   "cell_type": "markdown",
   "metadata": {},
   "source": [
    "2. print the two dataframes that you've created \n"
   ]
  },
  {
   "cell_type": "code",
   "execution_count": null,
   "metadata": {
    "scrolled": true
   },
   "outputs": [],
   "source": [
    "# replece the dataframe names with the right names \n",
    "print(first_dataframe_name)\n",
    "\n",
    "print()  # For an empty line\n",
    "\n",
    "print(second_dataframe_name)"
   ]
  },
  {
   "cell_type": "markdown",
   "metadata": {},
   "source": [
    "3. Merge the two dataframes using \"merge\" function"
   ]
  },
  {
   "cell_type": "code",
   "execution_count": null,
   "metadata": {},
   "outputs": [],
   "source": [
    "# replace Data-frame_two with the actual dataframe name\n",
    "df = df1.merge(Data-frame_two)"
   ]
  },
  {
   "cell_type": "markdown",
   "metadata": {},
   "source": [
    "4. Show the final merged dataframe by executing the next line"
   ]
  },
  {
   "cell_type": "code",
   "execution_count": null,
   "metadata": {
    "scrolled": true
   },
   "outputs": [],
   "source": [
    "df"
   ]
  },
  {
   "cell_type": "code",
   "execution_count": null,
   "metadata": {
    "scrolled": true
   },
   "outputs": [],
   "source": [
    "# We don't need the 'id' column of our merged dataframe anymore, so let's DROP it\n",
    "df.drop([\"id\"], axis=1)"
   ]
  },
  {
   "cell_type": "markdown",
   "metadata": {},
   "source": [
    "### Task 2 ( Feature Engineering)"
   ]
  },
  {
   "cell_type": "markdown",
   "metadata": {},
   "source": [
    "Generate a new feature (column) called \"IsSenior\" from the column \"age\""
   ]
  },
  {
   "cell_type": "markdown",
   "metadata": {},
   "source": [
    "1. add a new column to the data frame by using this commaned (df['column_name'] = None)\n"
   ]
  },
  {
   "cell_type": "code",
   "execution_count": null,
   "metadata": {},
   "outputs": [],
   "source": [
    "# replace \"new_column_name\" with \"sSenior\"\n",
    "df['new_column_name'] = None"
   ]
  },
  {
   "cell_type": "markdown",
   "metadata": {},
   "source": [
    "2- IsSenior column should show True if the person is >=60, and False otherwise"
   ]
  },
  {
   "cell_type": "code",
   "execution_count": null,
   "metadata": {},
   "outputs": [],
   "source": [
    "# replace \"new_column_name\" with \"IsSenior\"\n",
    "df.loc[df['Age'] >= 60, 'new-column-name'] = True\n",
    "df.loc[df['Age'] < 60, 'new-column-name'] = False"
   ]
  },
  {
   "cell_type": "markdown",
   "metadata": {},
   "source": [
    "4- Show the dataframe after adding a new column by executing the line below"
   ]
  },
  {
   "cell_type": "code",
   "execution_count": null,
   "metadata": {},
   "outputs": [],
   "source": [
    "df"
   ]
  }
 ],
 "metadata": {
  "kernelspec": {
   "display_name": "Python 3",
   "language": "python",
   "name": "python3"
  },
  "language_info": {
   "codemirror_mode": {
    "name": "ipython",
    "version": 2
   },
   "file_extension": ".py",
   "mimetype": "text/x-python",
   "name": "python",
   "nbconvert_exporter": "python",
   "pygments_lexer": "ipython2",
   "version": "2.7.15"
  }
 },
 "nbformat": 4,
 "nbformat_minor": 2
}
