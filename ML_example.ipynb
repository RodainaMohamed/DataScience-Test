{
 "cells": [
  {
   "cell_type": "markdown",
   "metadata": {},
   "source": [
    "# Machine Learning example"
   ]
  },
  {
   "cell_type": "markdown",
   "metadata": {},
   "source": [
    "## Simple Linear Regression"
   ]
  },
  {
   "cell_type": "markdown",
   "metadata": {},
   "source": [
    "This example uses the Linear Regression model to predict salaries of employees based on their years of experience"
   ]
  },
  {
   "cell_type": "code",
   "execution_count": 1,
   "metadata": {},
   "outputs": [],
   "source": [
    "# Importing the libraries\n",
    "import numpy as np\n",
    "import pandas as pd\n",
    "\n",
    "# We need Matplotlib library to visualize our data\n",
    "import matplotlib.pyplot as plt"
   ]
  },
  {
   "cell_type": "markdown",
   "metadata": {},
   "source": [
    "### Importing the dataset"
   ]
  },
  {
   "cell_type": "code",
   "execution_count": 2,
   "metadata": {},
   "outputs": [],
   "source": [
    "# read our CSV file named Salary_Data using Pandas Library\n",
    "dataset = pd.read_csv(your_file)"
   ]
  },
  {
   "cell_type": "markdown",
   "metadata": {},
   "source": [
    "### View part of the dataset"
   ]
  },
  {
   "cell_type": "code",
   "execution_count": 3,
   "metadata": {},
   "outputs": [
    {
     "data": {
      "text/html": [
       "<div>\n",
       "<style scoped>\n",
       "    .dataframe tbody tr th:only-of-type {\n",
       "        vertical-align: middle;\n",
       "    }\n",
       "\n",
       "    .dataframe tbody tr th {\n",
       "        vertical-align: top;\n",
       "    }\n",
       "\n",
       "    .dataframe thead th {\n",
       "        text-align: right;\n",
       "    }\n",
       "</style>\n",
       "<table border=\"1\" class=\"dataframe\">\n",
       "  <thead>\n",
       "    <tr style=\"text-align: right;\">\n",
       "      <th></th>\n",
       "      <th>YearsExperience</th>\n",
       "      <th>Salary</th>\n",
       "    </tr>\n",
       "  </thead>\n",
       "  <tbody>\n",
       "    <tr>\n",
       "      <th>0</th>\n",
       "      <td>1.1</td>\n",
       "      <td>39343.0</td>\n",
       "    </tr>\n",
       "    <tr>\n",
       "      <th>1</th>\n",
       "      <td>1.3</td>\n",
       "      <td>46205.0</td>\n",
       "    </tr>\n",
       "    <tr>\n",
       "      <th>2</th>\n",
       "      <td>1.5</td>\n",
       "      <td>37731.0</td>\n",
       "    </tr>\n",
       "    <tr>\n",
       "      <th>3</th>\n",
       "      <td>2.0</td>\n",
       "      <td>43525.0</td>\n",
       "    </tr>\n",
       "    <tr>\n",
       "      <th>4</th>\n",
       "      <td>2.2</td>\n",
       "      <td>39891.0</td>\n",
       "    </tr>\n",
       "  </tbody>\n",
       "</table>\n",
       "</div>"
      ],
      "text/plain": [
       "   YearsExperience   Salary\n",
       "0              1.1  39343.0\n",
       "1              1.3  46205.0\n",
       "2              1.5  37731.0\n",
       "3              2.0  43525.0\n",
       "4              2.2  39891.0"
      ]
     },
     "execution_count": 3,
     "metadata": {},
     "output_type": "execute_result"
    }
   ],
   "source": [
    "# head() function shows the first 5 columns of a dataset\n",
    "dataset.head()"
   ]
  },
  {
   "cell_type": "markdown",
   "metadata": {},
   "source": [
    "### Show the number of rows and columns in the dataset"
   ]
  },
  {
   "cell_type": "code",
   "execution_count": 4,
   "metadata": {},
   "outputs": [
    {
     "data": {
      "text/plain": [
       "(30, 2)"
      ]
     },
     "execution_count": 4,
     "metadata": {},
     "output_type": "execute_result"
    }
   ],
   "source": [
    "# our dataset consists of 30 rows and 2 columns\n",
    "dataset.shape"
   ]
  },
  {
   "cell_type": "code",
   "execution_count": 30,
   "metadata": {},
   "outputs": [],
   "source": [
    "# TODO: Introduce ML process...."
   ]
  },
  {
   "cell_type": "markdown",
   "metadata": {},
   "source": [
    "#### Now that we've got the data in some form, we have to perform a couple of steps:\n",
    "\n",
    "####  - Feature Engineering\n",
    "####  - Splitting the data in Training Set and Test Set\n",
    "####  - Training the Machine Learning Model\n",
    "####  - Testing Model (Validating Model)\n",
    "   - We can look at the prediction and see if the results look reasonable.\n",
    "   - To see this better we make this more apparent through visualizing our data and the results"
   ]
  },
  {
   "cell_type": "markdown",
   "metadata": {},
   "source": [
    "### Define the features (Features X) and the value you want to predict (Target Y) "
   ]
  },
  {
   "cell_type": "markdown",
   "metadata": {},
   "source": [
    "In a Data Science/Machine Learning context, features are columns in our dataset / the model’s inputs. To generalize it more, features are some types of information. With the help of which we would like to make prediction through the model.\n",
    "\n",
    "In our example our feature would be the Salary in our dataset (training set)"
   ]
  },
  {
   "cell_type": "code",
   "execution_count": 26,
   "metadata": {},
   "outputs": [],
   "source": [
    "# iloc is used to select values by indicies in the dataframe\n",
    "\n",
    "# select all rows of the first column which has index 0 and assign it to X\n",
    "X = dataset.iloc[:, 0].values.reshape(-1, 1)\n",
    "\n",
    "# You don't really have to understand the reshape function we apply. \n",
    "# Just know that the sklearn library wants the training data and the test data in a specific form\n",
    "# So we have to convert the data from 1d to 2d\n",
    "\n",
    "# select all rows of the second column which has index 1 and assign it to y\n",
    "y = dataset.iloc[:, 1].values"
   ]
  },
  {
   "cell_type": "code",
   "execution_count": 17,
   "metadata": {},
   "outputs": [
    {
     "name": "stdout",
     "output_type": "stream",
     "text": [
      "[1.1 1.3 1.5 2.  2.2]\n"
     ]
    }
   ],
   "source": [
    "# print the first five rows of X \n",
    "print(X[:5])"
   ]
  },
  {
   "cell_type": "code",
   "execution_count": 18,
   "metadata": {},
   "outputs": [
    {
     "name": "stdout",
     "output_type": "stream",
     "text": [
      "[39343. 46205. 37731. 43525. 39891.]\n"
     ]
    }
   ],
   "source": [
    "# print the first five rows of y \n",
    "print (y[:put_number])"
   ]
  },
  {
   "cell_type": "code",
   "execution_count": 29,
   "metadata": {},
   "outputs": [],
   "source": [
    "# TODO: reformulate below points to be more clear"
   ]
  },
  {
   "cell_type": "markdown",
   "metadata": {},
   "source": [
    "#### In order to use our Machine Learning model to predict the salaries of employees according to their years of experience, we will first have to train the model on available data.\n",
    "###### - To train the model we will need to split our data into two parts: Training Set and Test Set.\n",
    "For Machine Learning purposes, a dataset is usually divided into a training set and a test set. \n",
    "The training set is used to build the Machine Learning model,  while a test (or validation) set is used to validate the model.\n",
    "###### - The training set will be used  by our model in the training (learning) process.\n",
    "###### - The test set will be used in the predicting process which comes after the training process."
   ]
  },
  {
   "cell_type": "markdown",
   "metadata": {},
   "source": [
    "### Splitting the dataset into the Training set and Test set\n"
   ]
  },
  {
   "cell_type": "code",
   "execution_count": 20,
   "metadata": {},
   "outputs": [],
   "source": [
    "# import the sklean libarary \"train_test_split\" to split our dataset into Training set and Test set\n",
    "from sklearn.model_selection import train_test_split\n",
    "\n",
    "# as indicated by the name of the Library \"train_test_split\" it takes three arguments,\n",
    "# first argument is the indepent variable X, second argument is the dependent variable y \n",
    "# and the last one is the size of the test set which is 20% of available data in our case\n",
    "# Note: test set size could be any different value such as 0.25 or 0.3, it depends on the problem and the whole dataset size\n",
    "X_train, X_test, y_train, y_test = train_test_split(X, y, test_size = 0.2)"
   ]
  },
  {
   "cell_type": "markdown",
   "metadata": {},
   "source": [
    "## Model Training\n"
   ]
  },
  {
   "cell_type": "markdown",
   "metadata": {},
   "source": [
    "### Fitting Simple Linear Regression Model to the Training set\n"
   ]
  },
  {
   "cell_type": "code",
   "execution_count": 21,
   "metadata": {},
   "outputs": [
    {
     "data": {
      "text/plain": [
       "LinearRegression(copy_X=True, fit_intercept=True, n_jobs=None, normalize=False)"
      ]
     },
     "execution_count": 21,
     "metadata": {},
     "output_type": "execute_result"
    }
   ],
   "source": [
    "# import the Linear Regression class from sklearn\n",
    "from sklearn.linear_model import LinearRegression\n",
    "\n",
    "# create LinearRegression model from the LinearRegression class and name it regressor\n",
    "regressor = LinearRegression()\n",
    "\n",
    "# train the model by fitting it to the training set \n",
    "regressor.fit(X_train, y_train)"
   ]
  },
  {
   "cell_type": "markdown",
   "metadata": {},
   "source": [
    "## Model Testing"
   ]
  },
  {
   "cell_type": "markdown",
   "metadata": {},
   "source": [
    "### Predicting the Test set results"
   ]
  },
  {
   "cell_type": "code",
   "execution_count": 22,
   "metadata": {},
   "outputs": [],
   "source": [
    "# predict employees salaries according to their years of experience presented in the test set\n",
    "y_pred = regressor.predict(X_test)"
   ]
  },
  {
   "cell_type": "code",
   "execution_count": 23,
   "metadata": {},
   "outputs": [
    {
     "name": "stdout",
     "output_type": "stream",
     "text": [
      "[ 74502 108691 116289 111540  56458  82100]\n"
     ]
    }
   ],
   "source": [
    "# Show predicted salaries as integers for better visualisation\n",
    "print(y_pred.astype(int))"
   ]
  },
  {
   "cell_type": "code",
   "execution_count": 24,
   "metadata": {},
   "outputs": [
    {
     "name": "stdout",
     "output_type": "stream",
     "text": [
      "[ 66029 109431 116969 105582  54445  81363]\n"
     ]
    }
   ],
   "source": [
    "# Show real salaries\n",
    "print(y_test.astype(int))"
   ]
  },
  {
   "cell_type": "markdown",
   "metadata": {},
   "source": [
    "### Visualising the Training set results\n"
   ]
  },
  {
   "cell_type": "code",
   "execution_count": 25,
   "metadata": {},
   "outputs": [
    {
     "data": {
      "image/png": "[encoded data removed]",
      "text/plain": [
       "<Figure size 432x288 with 1 Axes>"
      ]
     },
     "metadata": {
      "needs_background": "light"
     },
     "output_type": "display_data"
    }
   ],
   "source": [
    "# We use matplotlib for visualizing the data\n",
    "\n",
    "# First we add a scatter plot with the training-data (as red dots)\n",
    "plt.scatter(X_train, y_train, color = 'red')\n",
    "# Then we we visualize the result of the regression (as a blue linear function)\n",
    "plt.plot(X_train, regressor.predict(X_train), color = 'blue')\n",
    "# Let's add a title\n",
    "plt.title('Salary vs Experience (Training set)')\n",
    "# Now we have to add labels to the two axis\n",
    "plt.xlabel('Years of Experience')\n",
    "plt.ylabel('Salary')\n",
    "# Lastly we have to show the plot\n",
    "plt.show()"
   ]
  },
  {
   "cell_type": "markdown",
   "metadata": {},
   "source": [
    "### Visualising the Test set results"
   ]
  },
  {
   "cell_type": "code",
   "execution_count": 48,
   "metadata": {},
   "outputs": [
    {
     "data": {
      "image/png": "[encoded data removed]",
      "text/plain": [
       "<Figure size 432x288 with 1 Axes>"
      ]
     },
     "metadata": {
      "needs_background": "light"
     },
     "output_type": "display_data"
    }
   ],
   "source": [
    "# Edit the lines to visualize the result\n",
    "\n",
    "# Let's plot the test data. Change the name for the data\n",
    "plt.scatter(x_test_data, y_test_data, color = 'red')\n",
    "plt.plot(X_train, regressor.predict(X_train), color = 'blue')\n",
    "plt.title('Salary vs Experience (Test set)')\n",
    "# Edit the labels. They labels haven't really changed from the previous plot,\n",
    "# except for it being about the test set, not the training set\n",
    "plt.xlabel('')\n",
    "plt.ylabel('')\n",
    "# What was the function to SHOW the plot again?\n",
    "plt.function_name()"
   ]
  }
 ],
 "metadata": {
  "kernelspec": {
   "display_name": "Python 3",
   "language": "python",
   "name": "python3"
  },
  "language_info": {
   "codemirror_mode": {
    "name": "ipython",
    "version": 3
   },
   "file_extension": ".py",
   "mimetype": "text/x-python",
   "name": "python",
   "nbconvert_exporter": "python",
   "pygments_lexer": "ipython3",
   "version": "3.7.4"
  }
 },
 "nbformat": 4,
 "nbformat_minor": 2
}
